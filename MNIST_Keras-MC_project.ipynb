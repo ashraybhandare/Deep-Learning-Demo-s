{
 "cells": [
  {
   "cell_type": "markdown",
   "metadata": {},
   "source": [
    "<h2 align=\"center\">MNIST Data</h2> \n",
    "![](mnist_data.png)"
   ]
  },
  {
   "cell_type": "code",
   "execution_count": 1,
   "metadata": {
    "collapsed": false
   },
   "outputs": [
    {
     "name": "stderr",
     "output_type": "stream",
     "text": [
      "Using Theano backend.\n",
      "Using gpu device 0: GRID K520 (CNMeM is enabled with initial size: 90.0% of memory, cuDNN 5005)\n"
     ]
    }
   ],
   "source": [
    "from keras.datasets import mnist\n",
    "from keras.models import Sequential\n",
    "from keras.layers.core import Dense, Activation, Flatten\n",
    "from keras.layers.convolutional import Convolution2D, MaxPooling2D\n",
    "from keras.utils import np_utils\n",
    "\n",
    "%matplotlib inline\n",
    "import matplotlib\n",
    "import matplotlib.pyplot as plt\n",
    "\n",
    "from sklearn.metrics import classification_report,confusion_matrix\n",
    "import numpy as np"
   ]
  },
  {
   "cell_type": "code",
   "execution_count": 15,
   "metadata": {
    "collapsed": true
   },
   "outputs": [],
   "source": [
    "batch_size = 128\n",
    "nb_classes = 10\n",
    "nb_epoch = 20\n",
    "\n",
    "img_rows, img_cols = 28, 28\n",
    "nb_filters = 32\n",
    "nb_pool = 2\n",
    "nb_conv = 3"
   ]
  },
  {
   "cell_type": "code",
   "execution_count": 3,
   "metadata": {
    "collapsed": false
   },
   "outputs": [],
   "source": [
    "(x_train, y_train), (x_test, y_test) = mnist.load_data()\n",
    "\n",
    "x_train = x_train.reshape(x_train.shape[0], 1, img_rows, img_cols)\n",
    "x_test = x_test.reshape(x_test.shape[0], 1, img_rows, img_cols)\n",
    "\n",
    "x_train = x_train.astype('float32')\n",
    "x_test = x_test.astype('float32')\n",
    "\n",
    "x_train /= 255\n",
    "x_test /=255"
   ]
  },
  {
   "cell_type": "code",
   "execution_count": 4,
   "metadata": {
    "collapsed": false
   },
   "outputs": [
    {
     "name": "stdout",
     "output_type": "stream",
     "text": [
      "('x_train shape:', (60000, 1, 28, 28))\n",
      "('y_train shape:', (60000,))\n",
      "('x_test shape:', (10000, 1, 28, 28))\n",
      "('y_test shape:', (10000,))\n"
     ]
    }
   ],
   "source": [
    "print('x_train shape:', x_train.shape)\n",
    "print('y_train shape:', y_train.shape)\n",
    "print('x_test shape:', x_test.shape)\n",
    "print('y_test shape:', y_test.shape)"
   ]
  },
  {
   "cell_type": "code",
   "execution_count": 5,
   "metadata": {
    "collapsed": false
   },
   "outputs": [
    {
     "name": "stdout",
     "output_type": "stream",
     "text": [
      "(60000, 'train samples')\n",
      "(10000, 'test samples')\n"
     ]
    }
   ],
   "source": [
    "print(x_train.shape[0], 'train samples')\n",
    "print(x_test.shape[0], 'test samples')"
   ]
  },
  {
   "cell_type": "code",
   "execution_count": 6,
   "metadata": {
    "collapsed": false
   },
   "outputs": [],
   "source": [
    "# 1 into K representation\n",
    "y_train = np_utils.to_categorical(y_train, nb_classes)\n",
    "y_test = np_utils.to_categorical(y_test, nb_classes)"
   ]
  },
  {
   "cell_type": "code",
   "execution_count": 7,
   "metadata": {
    "collapsed": false
   },
   "outputs": [
    {
     "name": "stdout",
     "output_type": "stream",
     "text": [
      "('label : ', array([ 0.,  0.,  0.,  0.,  0.,  0.,  0.,  0.,  1.,  0.]))\n"
     ]
    },
    {
     "data": {
      "image/png": "[encoded data removed]",
      "text/plain": [
       "<matplotlib.figure.Figure at 0x7f562c5adc50>"
      ]
     },
     "metadata": {},
     "output_type": "display_data"
    }
   ],
   "source": [
    "# Example\n",
    "i = 2400\n",
    "plt.imshow(x_train[i,0], interpolation='nearest')\n",
    "print(\"label : \", y_train[i,:])"
   ]
  },
  {
   "cell_type": "markdown",
   "metadata": {},
   "source": [
    "<h3 align=\"center\">CNN Architecture INPUT -> [CONV -> RELU -> POOL]*2 -> FC -> RELU -> FC -> Softmax</h3> "
   ]
  },
  {
   "cell_type": "code",
   "execution_count": 16,
   "metadata": {
    "collapsed": false
   },
   "outputs": [],
   "source": [
    "# CNN Architecture INPUT -> [CONV -> RELU -> POOL]*2 -> FC -> RELU -> FC -> Softmax\n",
    "model = Sequential()\n",
    "\n",
    "model.add(Convolution2D(nb_filters, nb_conv, nb_conv, border_mode='valid', input_shape=(1, img_rows, img_cols)))\n",
    "model.add(Activation('relu'))\n",
    "model.add(MaxPooling2D(pool_size=(nb_pool, nb_pool)))\n",
    "\n",
    "model.add(Convolution2D(nb_filters, nb_conv, nb_conv))\n",
    "model.add(Activation('relu'))\n",
    "model.add(MaxPooling2D(pool_size=(nb_pool, nb_pool)))\n",
    "\n",
    "model.add(Flatten())\n",
    "model.add(Dense(128))\n",
    "model.add(Activation('relu'))\n",
    "\n",
    "model.add(Dense(nb_classes))\n",
    "model.add(Activation('softmax'))"
   ]
  },
  {
   "cell_type": "code",
   "execution_count": 17,
   "metadata": {
    "collapsed": false
   },
   "outputs": [],
   "source": [
    "model.compile(loss='categorical_crossentropy', optimizer='sgd', metrics=['accuracy'])"
   ]
  },
  {
   "cell_type": "code",
   "execution_count": 18,
   "metadata": {
    "collapsed": false
   },
   "outputs": [
    {
     "name": "stdout",
     "output_type": "stream",
     "text": [
      "Train on 48000 samples, validate on 12000 samples\n",
      "Epoch 1/20\n",
      "48000/48000 [==============================] - 3s - loss: 1.5395 - acc: 0.5598 - val_loss: 0.5043 - val_acc: 0.8632\n",
      "Epoch 2/20\n",
      "48000/48000 [==============================] - 3s - loss: 0.4135 - acc: 0.8770 - val_loss: 0.2964 - val_acc: 0.9140\n",
      "Epoch 3/20\n",
      "48000/48000 [==============================] - 3s - loss: 0.2944 - acc: 0.9104 - val_loss: 0.2378 - val_acc: 0.9309\n",
      "Epoch 4/20\n",
      "48000/48000 [==============================] - 3s - loss: 0.2369 - acc: 0.9284 - val_loss: 0.1930 - val_acc: 0.9459\n",
      "Epoch 5/20\n",
      "48000/48000 [==============================] - 3s - loss: 0.1988 - acc: 0.9396 - val_loss: 0.1770 - val_acc: 0.9483\n",
      "Epoch 6/20\n",
      "48000/48000 [==============================] - 3s - loss: 0.1694 - acc: 0.9479 - val_loss: 0.1543 - val_acc: 0.9537\n",
      "Epoch 7/20\n",
      "48000/48000 [==============================] - 3s - loss: 0.1483 - acc: 0.9553 - val_loss: 0.1337 - val_acc: 0.9613\n",
      "Epoch 8/20\n",
      "48000/48000 [==============================] - 3s - loss: 0.1324 - acc: 0.9600 - val_loss: 0.1221 - val_acc: 0.9639\n",
      "Epoch 9/20\n",
      "48000/48000 [==============================] - 3s - loss: 0.1199 - acc: 0.9632 - val_loss: 0.1279 - val_acc: 0.9618\n",
      "Epoch 10/20\n",
      "48000/48000 [==============================] - 3s - loss: 0.1108 - acc: 0.9657 - val_loss: 0.1137 - val_acc: 0.9667\n",
      "Epoch 11/20\n",
      "48000/48000 [==============================] - 3s - loss: 0.1019 - acc: 0.9689 - val_loss: 0.1070 - val_acc: 0.9678\n",
      "Epoch 12/20\n",
      "48000/48000 [==============================] - 3s - loss: 0.0956 - acc: 0.9710 - val_loss: 0.0966 - val_acc: 0.9711\n",
      "Epoch 13/20\n",
      "48000/48000 [==============================] - 3s - loss: 0.0897 - acc: 0.9725 - val_loss: 0.0920 - val_acc: 0.9716\n",
      "Epoch 14/20\n",
      "48000/48000 [==============================] - 3s - loss: 0.0845 - acc: 0.9741 - val_loss: 0.0903 - val_acc: 0.9739\n",
      "Epoch 15/20\n",
      "48000/48000 [==============================] - 3s - loss: 0.0800 - acc: 0.9759 - val_loss: 0.0835 - val_acc: 0.9736\n",
      "Epoch 16/20\n",
      "48000/48000 [==============================] - 3s - loss: 0.0762 - acc: 0.9774 - val_loss: 0.0955 - val_acc: 0.9693\n",
      "Epoch 17/20\n",
      "48000/48000 [==============================] - 3s - loss: 0.0735 - acc: 0.9772 - val_loss: 0.0785 - val_acc: 0.9762\n",
      "Epoch 18/20\n",
      "48000/48000 [==============================] - 3s - loss: 0.0703 - acc: 0.9783 - val_loss: 0.0791 - val_acc: 0.9753\n",
      "Epoch 19/20\n",
      "48000/48000 [==============================] - 3s - loss: 0.0673 - acc: 0.9798 - val_loss: 0.0792 - val_acc: 0.9765\n",
      "Epoch 20/20\n",
      "48000/48000 [==============================] - 3s - loss: 0.0645 - acc: 0.9801 - val_loss: 0.0786 - val_acc: 0.9756\n"
     ]
    },
    {
     "data": {
      "text/plain": [
       "<keras.callbacks.History at 0x7f5608fd5610>"
      ]
     },
     "execution_count": 18,
     "metadata": {},
     "output_type": "execute_result"
    }
   ],
   "source": [
    "model.fit(x_train, y_train, batch_size = batch_size, nb_epoch=nb_epoch, verbose=1, validation_split=0.2)"
   ]
  },
  {
   "cell_type": "code",
   "execution_count": 19,
   "metadata": {
    "collapsed": false
   },
   "outputs": [
    {
     "name": "stdout",
     "output_type": "stream",
     "text": [
      "('Test Error: ', 0.069256372224353255, 'Test Accuracy: ', 97.680000000000007)\n"
     ]
    }
   ],
   "source": [
    "score = model.evaluate(x_test, y_test, verbose=0)\n",
    "print('Test Error: ', score[0],'Test Accuracy: ', score[1]*100)"
   ]
  },
  {
   "cell_type": "code",
   "execution_count": 20,
   "metadata": {
    "collapsed": false
   },
   "outputs": [
    {
     "name": "stdout",
     "output_type": "stream",
     "text": [
      "[[ 972    0    1    0    0    1    2    1    3    0]\n",
      " [   0 1124    3    0    0    1    2    1    4    0]\n",
      " [   1    2 1016    2    0    0    0    4    6    1]\n",
      " [   0    0    1  996    1    5    0    1    3    3]\n",
      " [   1    0    1    0  944    0    3    2    3   28]\n",
      " [   2    0    1    5    0  875    5    1    1    2]\n",
      " [   7    2    1    1    3    9  935    0    0    0]\n",
      " [   1    4   12    4    0    0    0  986    1   20]\n",
      " [   4    0    3   11    2    2    3    1  937   11]\n",
      " [   3    8    0    5    2    6    0    2    0  983]]\n"
     ]
    }
   ],
   "source": [
    "y_pred = model.predict_classes(x_test, verbose=0)\n",
    "print(confusion_matrix(np.argmax(y_test,axis=1),y_pred))"
   ]
  },
  {
   "cell_type": "code",
   "execution_count": null,
   "metadata": {
    "collapsed": true
   },
   "outputs": [],
   "source": [
    "def plot_filters(layer, x, y):\n",
    "    filters = layer.W.get_value()\n",
    "    fig = plt.figure()\n",
    "    for j in range(len(filters)):\n",
    "        ax = fig.add_subplot(y,x, j+1)\n",
    "        ax.matshow(filters[j][0], cmap=matplotlib.cm.binary)\n",
    "        plt.xticks(np.array([]))\n",
    "        plt.yticks(np.array([]))\n",
    "    plt.tight_layout()\n",
    "    return plt"
   ]
  },
  {
   "cell_type": "code",
   "execution_count": null,
   "metadata": {
    "collapsed": false
   },
   "outputs": [],
   "source": [
    "plot_filters(model.layers[0],8,4) ##First Convolutional Layer"
   ]
  },
  {
   "cell_type": "code",
   "execution_count": null,
   "metadata": {
    "collapsed": false
   },
   "outputs": [],
   "source": [
    "plot_filters(model.layers[3],8,4) ##Second Convolutional Layer"
   ]
  },
  {
   "cell_type": "code",
   "execution_count": null,
   "metadata": {
    "collapsed": true
   },
   "outputs": [],
   "source": []
  }
 ],
 "metadata": {
  "anaconda-cloud": {},
  "kernelspec": {
   "display_name": "Python [Keras_env]",
   "language": "python",
   "name": "Python [Keras_env]"
  },
  "language_info": {
   "codemirror_mode": {
    "name": "ipython",
    "version": 2
   },
   "file_extension": ".py",
   "mimetype": "text/x-python",
   "name": "python",
   "nbconvert_exporter": "python",
   "pygments_lexer": "ipython2",
   "version": "2.7.12"
  }
 },
 "nbformat": 4,
 "nbformat_minor": 0
}
